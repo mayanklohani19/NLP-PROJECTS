{
 "cells": [
  {
   "cell_type": "markdown",
   "metadata": {},
   "source": [
    "### 1. Importing Libraries"
   ]
  },
  {
   "cell_type": "code",
   "execution_count": null,
   "metadata": {},
   "outputs": [],
   "source": [
    "from textblob import TextBlob"
   ]
  },
  {
   "cell_type": "code",
   "execution_count": null,
   "metadata": {},
   "outputs": [],
   "source": [
    "!pip install tweepy"
   ]
  },
  {
   "cell_type": "code",
   "execution_count": 2,
   "metadata": {},
   "outputs": [
    {
     "name": "stdout",
     "output_type": "stream",
     "text": [
      "Collecting git+https://github.com/tweepy/tweepy.gitNote: you may need to restart the kernel to use updated packages.\n",
      "\n",
      "  Cloning https://github.com/tweepy/tweepy.git to c:\\users\\mayank\\appdata\\local\\temp\\pip-req-build-ppelu3wc\n",
      "Requirement already satisfied (use --upgrade to upgrade): tweepy==4.6.0 from git+https://github.com/tweepy/tweepy.git in c:\\users\\mayank\\anaconda3\\lib\\site-packages\n",
      "Requirement already satisfied: oauthlib<4,>=3.2.0 in c:\\users\\mayank\\anaconda3\\lib\\site-packages (from tweepy==4.6.0) (3.2.0)\n",
      "Requirement already satisfied: requests<3,>=2.27.0 in c:\\users\\mayank\\anaconda3\\lib\\site-packages (from tweepy==4.6.0) (2.27.1)\n",
      "Requirement already satisfied: requests-oauthlib<2,>=1.2.0 in c:\\users\\mayank\\anaconda3\\lib\\site-packages (from tweepy==4.6.0) (1.3.0)\n",
      "Requirement already satisfied: certifi>=2017.4.17 in c:\\users\\mayank\\anaconda3\\lib\\site-packages (from requests<3,>=2.27.0->tweepy==4.6.0) (2019.11.28)\n",
      "Requirement already satisfied: idna<4,>=2.5; python_version >= \"3\" in c:\\users\\mayank\\anaconda3\\lib\\site-packages (from requests<3,>=2.27.0->tweepy==4.6.0) (2.10)\n",
      "Requirement already satisfied: urllib3<1.27,>=1.21.1 in c:\\users\\mayank\\anaconda3\\lib\\site-packages (from requests<3,>=2.27.0->tweepy==4.6.0) (1.25.11)\n",
      "Requirement already satisfied: charset-normalizer~=2.0.0; python_version >= \"3\" in c:\\users\\mayank\\anaconda3\\lib\\site-packages (from requests<3,>=2.27.0->tweepy==4.6.0) (2.0.12)\n",
      "Building wheels for collected packages: tweepy\n",
      "  Building wheel for tweepy (setup.py): started\n",
      "  Building wheel for tweepy (setup.py): still running...\n",
      "  Building wheel for tweepy (setup.py): finished with status 'done'\n",
      "  Created wheel for tweepy: filename=tweepy-4.6.0-py2.py3-none-any.whl size=76649 sha256=8a887b1835d80d8b3f47c47989711e4a5dba40e617d448f2cc21e65a73ac87d4\n",
      "  Stored in directory: C:\\Users\\Mayank\\AppData\\Local\\Temp\\pip-ephem-wheel-cache-w_ez7tyr\\wheels\\ad\\05\\51\\a78f66d15b87f9c623d2f3afc4401660ac4219e526c787fb8b\n",
      "Successfully built tweepy\n"
     ]
    }
   ],
   "source": [
    "pip install git+https://github.com/tweepy/tweepy.git"
   ]
  },
  {
   "cell_type": "code",
   "execution_count": null,
   "metadata": {},
   "outputs": [],
   "source": [
    "import tweepy"
   ]
  },
  {
   "cell_type": "code",
   "execution_count": null,
   "metadata": {},
   "outputs": [],
   "source": [
    "import matplotlib.pyplot as plt"
   ]
  },
  {
   "cell_type": "markdown",
   "metadata": {},
   "source": [
    "### 2. Connecting with TWitter API"
   ]
  },
  {
   "cell_type": "code",
   "execution_count": null,
   "metadata": {},
   "outputs": [],
   "source": [
    "consumer_key= \"3RHtxWfm6TKO9zZgWxnp1G7hs\"\n",
    "consumer_secret= \"l2EW4MBmgGZhrTOeGCxYBTziMBvpq1nuUF9Hd4gIOzsLLZEldY\"\n",
    "access_token= \"31487637-C3kl4lKg69pJAk3enMSz91WeIKRm6McCOYOrc6v3\"\n",
    "access_token_secret= \"v5A5V0fqSYffJIUVbKaFGLFXtYLEFlHFIYgADxUoar1zo\""
   ]
  },
  {
   "cell_type": "code",
   "execution_count": null,
   "metadata": {},
   "outputs": [],
   "source": [
    "auth=tweepy.OAuthHandler(consumer_key, consumer_secret)\n",
    "auth.set_access_token(access_token,access_token_secret)"
   ]
  },
  {
   "cell_type": "code",
   "execution_count": null,
   "metadata": {},
   "outputs": [],
   "source": [
    "api=tweepy.API(auth)"
   ]
  },
  {
   "cell_type": "code",
   "execution_count": null,
   "metadata": {},
   "outputs": [],
   "source": [
    "type(api)"
   ]
  },
  {
   "cell_type": "code",
   "execution_count": null,
   "metadata": {},
   "outputs": [],
   "source": [
    "search_term=\"Money Heist\"\n",
    "no_of_tweets=1000"
   ]
  },
  {
   "cell_type": "code",
   "execution_count": null,
   "metadata": {},
   "outputs": [],
   "source": [
    "tweets=tweepy.Cursor(api.search, q=search_term).items(no_of_tweets)"
   ]
  },
  {
   "cell_type": "code",
   "execution_count": null,
   "metadata": {},
   "outputs": [],
   "source": []
  }
 ],
 "metadata": {
  "kernelspec": {
   "display_name": "Python 3",
   "language": "python",
   "name": "python3"
  },
  "language_info": {
   "codemirror_mode": {
    "name": "ipython",
    "version": 3
   },
   "file_extension": ".py",
   "mimetype": "text/x-python",
   "name": "python",
   "nbconvert_exporter": "python",
   "pygments_lexer": "ipython3",
   "version": "3.8.5"
  }
 },
 "nbformat": 4,
 "nbformat_minor": 4
}
